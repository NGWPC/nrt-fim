{
 "cells": [
  {
   "cell_type": "markdown",
   "id": "7d421a81",
   "metadata": {},
   "source": [
    "# Generating Flood Percent Rasters from Resampled Binary Flood Extent Maps\n",
    "\n",
    "This notebook demonstrates downloading a flood extent from FIM-C Benchmark STAC and generating a resampled raster where each pixel is percent flooded from original raster. The raster is aligned to the model CONUS grid. \n",
    "\n",
    "A CLI tool is shown. After, the steps of the CLI script are demonstrated as cells. Finally, alternative cases for CLI to be used for test cases are shown at the bottom."
   ]
  },
  {
   "cell_type": "code",
   "execution_count": 23,
   "id": "adb19150",
   "metadata": {},
   "outputs": [
    {
     "data": {
      "text/plain": [
       "True"
      ]
     },
     "execution_count": 23,
     "metadata": {},
     "output_type": "execute_result"
    }
   ],
   "source": [
    "import codecs\n",
    "import os\n",
    "import pathlib\n",
    "import subprocess\n",
    "\n",
    "import numpy as np\n",
    "import rasterio\n",
    "import rioxarray\n",
    "from dotenv import load_dotenv\n",
    "from rasterio import shutil as rio_shutil\n",
    "from rasterio.enums import Resampling\n",
    "from rasterio.vrt import WarpedVRT\n",
    "\n",
    "from trainer.datasets.utils_stac import STACReader\n",
    "\n",
    "load_dotenv()"
   ]
  },
  {
   "cell_type": "code",
   "execution_count": null,
   "id": "c35d4eb2",
   "metadata": {},
   "outputs": [],
   "source": [
    "cwd = pathlib.Path(os.getcwd())\n",
    "\n",
    "stac_collection = \"gfm-collection\"\n",
    "stac_item_id = \"DFO-5074_tile-S1A_IW_GRDH_1SDV_20210518T001113_20210518T001138_037935_047A1E_FB14\"\n",
    "stac_asset_id = \"E087N027T3_Observed_Flood_Extent\"\n",
    "\n",
    "\n",
    "conus_grid_path = \"s3://fim-services-data/f1/data/conus.tif\"\n",
    "conus_grid_local = \"./data/conus_grid_temp.tif\"\n",
    "output_resolution = 250\n",
    "\n",
    "download_path = cwd / \"data/flood/download\"\n",
    "processing_path = cwd / \"data/flood/processed\"\n",
    "\n",
    "temp_ras = processing_path / \"temp_percent.tif\"\n",
    "temp_ras_aligned = processing_path / \"temp_aligned.tif\"\n",
    "final = processing_path / f\"flood_percent_{stac_asset_id}.tif\"\n",
    "\n",
    "if not os.path.exists(cwd / \"data\"):\n",
    "    os.mkdir(\"./data\")\n",
    "\n",
    "if not os.path.exists(download_path):\n",
    "    os.makedirs(download_path)\n",
    "\n",
    "if not os.path.exists(processing_path):\n",
    "    os.makedirs(processing_path)\n",
    "\n",
    "# check that local CONUS grid exists, if not download it for CLI script\n",
    "try:\n",
    "    temp_conus = rioxarray.open_rasterio(conus_grid_local)\n",
    "except Exception: # noqa: BLE001\n",
    "    temp_conus = rioxarray.open_rasterio(conus_grid_path)\n",
    "    temp_conus.rio.to_raster(conus_grid_local)\n",
    "    print(\"Downloaded and saved local CONUS grid\")"
   ]
  },
  {
   "cell_type": "code",
   "execution_count": 3,
   "id": "cd2b43b8",
   "metadata": {},
   "outputs": [],
   "source": [
    "# init a STAC reader\n",
    "reader = STACReader(bucket=\"fimc-data\", catalog=\"s3://fimc-data/benchmark/stac-bench-cat/catalog.json\")"
   ]
  },
  {
   "cell_type": "code",
   "execution_count": 5,
   "id": "41c3099d",
   "metadata": {},
   "outputs": [
    {
     "name": "stdout",
     "output_type": "stream",
     "text": [
      "Downloaded fimc-data/benchmark/rs/gfm/5074/S1A_IW_GRDH_1SDV_20210518T001113_20210518T001138_037935_047A1E_FB14/NA_E087N027T3_ENSEMBLE_FLOOD_20210518T001113_VV_NA020M_E087N027T3_20210518.tif to /home/quercus.hamlin/Documents/code/f1_trainer/examples/data/flood/download/NA_E087N027T3_ENSEMBLE_FLOOD_20210518T001113_VV_NA020M_E087N027T3_20210518.tif\n"
     ]
    }
   ],
   "source": [
    "# save a flood extent\n",
    "# can take some time: ~1 min\n",
    "stac_item = reader.read_stac(\n",
    "    collection=stac_collection, item_id=stac_item_id, asset_id=stac_asset_id, output_dir=download_path\n",
    ")"
   ]
  },
  {
   "cell_type": "markdown",
   "id": "04a67c22",
   "metadata": {},
   "source": [
    "## Run from CLI\n",
    "Run the full process directly from CLI\n",
    "\n",
    "Location: `f1_trainer/scripts/flood_percent_raster.py`"
   ]
  },
  {
   "cell_type": "code",
   "execution_count": null,
   "id": "9a68d511",
   "metadata": {},
   "outputs": [
    {
     "name": "stdout",
     "output_type": "stream",
     "text": [
      "CompletedProcess(args=['python', '../scripts/flood_percent_raster.py', '/home/quercus.hamlin/Documents/code/f1_trainer/examples/data/flood/download/NA_E087N027T3_ENSEMBLE_FLOOD_20210518T001113_VV_NA020M_E087N027T3_20210518.tif', '/home/quercus.hamlin/Documents/code/f1_trainer/examples/data/flood/processed/flood_percent_E087N027T3_Observed_Flood_Extent.tif', '--grid', './data/conus_grid_temp2.tif', '--resolution', '250', '-o'], returncode=0, stdout=b'Reprojected raster to grid CRS\\nClipped raster to final extent\\nRemoved temporary /home/quercus.hamlin/Documents/code/f1_trainer/examples/data/flood/processed/temp_raster.tif\\nRemoved temporary /home/quercus.hamlin/Documents/code/f1_trainer/examples/data/flood/processed/temp_raster_aligned.tif\\n', stderr=b'')\n",
      "Reprojected raster to grid CRS\n",
      "Clipped raster to final extent\n",
      "Removed temporary /home/quercus.hamlin/Documents/code/f1_trainer/examples/data/flood/processed/temp_raster.tif\n",
      "Removed temporary /home/quercus.hamlin/Documents/code/f1_trainer/examples/data/flood/processed/temp_raster_aligned.tif\n",
      "\n"
     ]
    }
   ],
   "source": [
    "# A raster aligned to grid at 250 m resolution\n",
    "cmd = f\"python ../scripts/flood_percent_raster.py {stac_item} {final} --grid {conus_grid_local} --resolution 250 --overwrite\".split()\n",
    "\n",
    "output = subprocess.run(cmd, shell=False, capture_output=True)\n",
    "print(output)\n",
    "print(codecs.decode(output.stdout, \"utf8\"))"
   ]
  },
  {
   "cell_type": "markdown",
   "id": "03994124",
   "metadata": {},
   "source": [
    "## Demonstrate steps of CLI\n",
    "Breaks CLI script into segments to walk through process"
   ]
  },
  {
   "cell_type": "code",
   "execution_count": null,
   "id": "2cedf6cb",
   "metadata": {},
   "outputs": [],
   "source": [
    "# get the grid information\n",
    "with rasterio.open(conus_grid_path) as src:\n",
    "    conus_width, conus_height = src.width, src.height\n",
    "    conus_transform = src.transform\n",
    "    conus_crs = src.crs"
   ]
  },
  {
   "cell_type": "code",
   "execution_count": null,
   "id": "a87a82f7",
   "metadata": {},
   "outputs": [],
   "source": [
    "# open STAC item and reproject to grid CRS\n",
    "ras_in = rioxarray.open_rasterio(stac_item)\n",
    "ras_working = ras_in.rio.reproject(conus_crs)\n",
    "del ras_in"
   ]
  },
  {
   "cell_type": "code",
   "execution_count": null,
   "id": "a06de11c",
   "metadata": {},
   "outputs": [],
   "source": [
    "def calculate_flood_percentage(raster, target_resolution=250):\n",
    "    \"\"\"Converts a flood extent raster to a raster where each pixel represents % of pixels flooded when the\n",
    "    dataset is resampled.\n",
    "\n",
    "    Args:\n",
    "        raster (xr.DataArray): Raster of flood extent (binary)\n",
    "        target_resolution (int | float, optional): Output raster cell resolution to resample to. Defaults to 250.\n",
    "\n",
    "    Returns\n",
    "    -------\n",
    "        xr.DataArray: Resampled raster representing percent flooded\n",
    "    \"\"\"\n",
    "    \n",
    "    # Get the current resolution and dimensions\n",
    "    current_res_x, current_res_y = raster.rio.resolution()\n",
    "    current_width = raster.rio.width\n",
    "    current_height = raster.rio.height\n",
    "\n",
    "    # Calculate the scale factor\n",
    "    scale_x = abs(target_resolution / current_res_x)\n",
    "    scale_y = abs(target_resolution / current_res_y)\n",
    "\n",
    "    # Calculate new dimensions\n",
    "    new_width = int(current_width / scale_x)\n",
    "    new_height = int(current_height / scale_y)\n",
    "\n",
    "    # Create an empty array for our percentages\n",
    "    percentages = np.zeros((raster.rio.count, new_height, new_width))\n",
    "\n",
    "    # Get the data as a numpy array\n",
    "    data = raster.values\n",
    "\n",
    "    # For each band\n",
    "    for b in range(raster.rio.count):\n",
    "        # Get the band data\n",
    "        band_data = data[b]\n",
    "\n",
    "        # Identify pixels with value 1 (flooded)\n",
    "        binary_mask = (band_data == 1).astype(np.float32)\n",
    "\n",
    "        # Calculate percentage for each block\n",
    "        for i in range(new_height):\n",
    "            for j in range(new_width):\n",
    "                # Calculate corresponding indices in the original raster\n",
    "                start_y = int(i * scale_y)\n",
    "                end_y = int(min((i + 1) * scale_y, current_height))\n",
    "                start_x = int(j * scale_x)\n",
    "                end_x = int(min((j + 1) * scale_x, current_width))\n",
    "\n",
    "                # Extract the block from the original data\n",
    "                block = binary_mask[start_y:end_y, start_x:end_x]\n",
    "\n",
    "                # Calculate total number of valid pixels in the block\n",
    "                total_pixels = block.size\n",
    "\n",
    "                # Skip if no valid pixels (avoid division by zero)\n",
    "                if total_pixels == 0:\n",
    "                    percentages[b, i, j] = np.nan\n",
    "                    continue\n",
    "\n",
    "                # Calculate percentage of flooded pixels\n",
    "                flood_count = np.sum(block)\n",
    "                percentages[b, i, j] = (flood_count / total_pixels) * 100\n",
    "\n",
    "    # Create a new raster with the percentages\n",
    "    try:\n",
    "        percentage_raster = raster.rio.reproject(\n",
    "            raster.rio.crs, shape=(new_height, new_width), resampling=Resampling.nearest\n",
    "        )\n",
    "    except ZeroDivisionError as e:\n",
    "        raise ValueError(\n",
    "            \"There is a problem with the target resolution. Are you using a geographic CRS with resolutions < 1 degree? Try a different resolution.\"\n",
    "        ) from e\n",
    "\n",
    "    # Replace the values with our percentages\n",
    "    percentage_raster.values = percentages\n",
    "\n",
    "    return percentage_raster"
   ]
  },
  {
   "cell_type": "code",
   "execution_count": null,
   "id": "664ce14c",
   "metadata": {},
   "outputs": [
    {
     "name": "stdout",
     "output_type": "stream",
     "text": [
      "Total flooded pixels in original: 268862\n",
      "Equivalent flooded pixels from percentage raster: 268562.5\n",
      "Difference: -299.5 pixels\n",
      "Percentage difference: -0.11%\n"
     ]
    }
   ],
   "source": [
    "target_resolution = output_resolution\n",
    "\n",
    "# Apply the function to your reprojected raster\n",
    "flood_percent_250m = calculate_flood_percentage(ras_working, target_resolution=target_resolution)\n",
    "\n",
    "# save temp raster\n",
    "flood_percent_250m.rio.to_raster(temp_ras)\n",
    "\n",
    "# Print some statistics\n",
    "total_flooded_pixels_original = (ras_working.values == 1).sum()\n",
    "\n",
    "# Calculate the equivalent number of original pixels from the percentage data\n",
    "# Each target pixel represents (scale_x * scale_y) original pixels\n",
    "current_res_x, current_res_y = ras_working.rio.resolution()\n",
    "scale_x = abs(target_resolution / current_res_x)\n",
    "scale_y = abs(target_resolution / current_res_y)\n",
    "pixels_per_target = scale_x * scale_y\n",
    "\n",
    "# For each target pixel, its percentage tells us how many original pixels were flooded\n",
    "# Sum up (percentage/100 * pixels_per_target) for all target pixels\n",
    "equivalent_flooded_pixels = np.nansum(flood_percent_250m.values / 100 * pixels_per_target)\n",
    "\n",
    "print(f\"Total flooded pixels in original: {total_flooded_pixels_original}\")\n",
    "print(f\"Equivalent flooded pixels from percentage raster: {equivalent_flooded_pixels:.1f}\")\n",
    "print(f\"Difference: {equivalent_flooded_pixels - total_flooded_pixels_original:.1f} pixels\")\n",
    "print(\n",
    "    f\"Percentage difference: {((equivalent_flooded_pixels - total_flooded_pixels_original) / total_flooded_pixels_original) * 100:.2f}%\"\n",
    ")"
   ]
  },
  {
   "cell_type": "code",
   "execution_count": null,
   "id": "5f21e5c1",
   "metadata": {},
   "outputs": [],
   "source": [
    "# align flood ras  to conus - this will align grid and expand the raster to match conus size\n",
    "vrt_options = {\n",
    "    \"resampling\": Resampling.nearest,  # nearest resampling to preserve % value\n",
    "    \"crs\": conus_crs,\n",
    "    \"transform\": conus_transform,\n",
    "    \"height\": conus_height,\n",
    "    \"width\": conus_width,\n",
    "}\n",
    "\n",
    "with rasterio.open(temp_ras) as src:\n",
    "    with WarpedVRT(src, dtype=\"float32\", **vrt_options) as vrt:\n",
    "        rio_shutil.copy(vrt, temp_ras_aligned, driver=\"GTiff\", tiled=\"YES\", compress=\"LZW\")"
   ]
  },
  {
   "cell_type": "code",
   "execution_count": null,
   "id": "3219edf5",
   "metadata": {},
   "outputs": [
    {
     "data": {
      "text/plain": [
       "0"
      ]
     },
     "execution_count": 28,
     "metadata": {},
     "output_type": "execute_result"
    }
   ],
   "source": [
    "# clip flood back to original extent. Keps conus grid alignment\n",
    "cmd = f\"rio clip {temp_ras_aligned} {final} --like {stac_item} --overwrite\".split()\n",
    "\n",
    "subprocess.run(cmd, shell=False, capture_output=True)"
   ]
  },
  {
   "cell_type": "code",
   "execution_count": null,
   "id": "937e464b",
   "metadata": {},
   "outputs": [],
   "source": [
    "# cleanup\n",
    "temp_files = [temp_ras, temp_ras_aligned]\n",
    "for f in temp_files:\n",
    "    if os.path.exists(f):\n",
    "        os.remove(f)"
   ]
  },
  {
   "cell_type": "markdown",
   "id": "38f36174",
   "metadata": {},
   "source": [
    "## Other cases for CLI\n",
    "Demonstrates other uses from CLI and outputs generated. These can be used to generate tests cases."
   ]
  },
  {
   "cell_type": "code",
   "execution_count": 33,
   "id": "d1e52cfc",
   "metadata": {},
   "outputs": [
    {
     "name": "stdout",
     "output_type": "stream",
     "text": [
      "CompletedProcess(args=['python', '../scripts/flood_percent_raster.py', '/home/quercus.hamlin/Documents/code/f1_trainer/examples/data/flood/download/NA_E087N027T3_ENSEMBLE_FLOOD_20210518T001113_VV_NA020M_E087N027T3_20210518.tif', '/home/quercus.hamlin/Documents/code/f1_trainer/examples/data/flood/processed/flood_percent_E087N027T3_Observed_Flood_Extent_no_grid.tif', '--crs', '6350', '--resolution', '250', '--overwrite'], returncode=0, stdout=b'Reprojected raster to new CRS\\nRemoved temporary /home/quercus.hamlin/Documents/code/f1_trainer/examples/data/flood/processed/temp_raster.tif\\n', stderr=b'')\n",
      "Reprojected raster to new CRS\n",
      "Removed temporary /home/quercus.hamlin/Documents/code/f1_trainer/examples/data/flood/processed/temp_raster.tif\n",
      "\n"
     ]
    }
   ],
   "source": [
    "# A raster re-projected but not aligned to grid - should succeed, but result will not match grid alignment\n",
    "final = processing_path / f\"flood_percent_{stac_asset_id}_no_grid.tif\"\n",
    "cmd = f\"python ../scripts/flood_percent_raster.py {stac_item} {final} --crs 6350 --resolution 250 --overwrite\".split()\n",
    "\n",
    "output = subprocess.run(cmd, shell=False, capture_output=True)\n",
    "print(output)\n",
    "print(codecs.decode(output.stdout, \"utf8\"))"
   ]
  },
  {
   "cell_type": "code",
   "execution_count": 35,
   "id": "3a5b4d74",
   "metadata": {},
   "outputs": [
    {
     "name": "stdout",
     "output_type": "stream",
     "text": [
      "CompletedProcess(args=['python', '../scripts/flood_percent_raster.py', '/home/quercus.hamlin/Documents/code/f1_trainer/examples/data/flood/download/NA_E087N027T3_ENSEMBLE_FLOOD_20210518T001113_VV_NA020M_E087N027T3_20210518.tif', '/home/quercus.hamlin/Documents/code/f1_trainer/examples/data/flood/processed/flood_percent_E087N027T3_Observed_Flood_Extent_bad_resolution.tif', '--resolution', '250', '--overwrite'], returncode=1, stdout=b'', stderr=b'Traceback (most recent call last):\\n  File \"/home/quercus.hamlin/Documents/code/f1_trainer/examples/../scripts/flood_percent_raster.py\", line 81, in calculate_flood_percentage\\n    percentage_raster = raster.rio.reproject(\\n                        ^^^^^^^^^^^^^^^^^^^^^\\n  File \"/home/quercus.hamlin/Documents/code/f1_trainer/.venv/lib/python3.11/site-packages/rioxarray/raster_array.py\", line 470, in reproject\\n    dst_affine, dst_width, dst_height = _make_dst_affine(\\n                                        ^^^^^^^^^^^^^^^^^\\n  File \"/home/quercus.hamlin/Documents/code/f1_trainer/.venv/lib/python3.11/site-packages/rioxarray/raster_array.py\", line 154, in _make_dst_affine\\n    dst_affine, dst_width, dst_height = rasterio.warp.calculate_default_transform(\\n                                        ^^^^^^^^^^^^^^^^^^^^^^^^^^^^^^^^^^^^^^^^^^\\n  File \"/home/quercus.hamlin/Documents/code/f1_trainer/.venv/lib/python3.11/site-packages/rasterio/env.py\", line 413, in wrapper\\n    return f(*args, **kwds)\\n           ^^^^^^^^^^^^^^^^\\n  File \"/home/quercus.hamlin/Documents/code/f1_trainer/.venv/lib/python3.11/site-packages/rasterio/warp.py\", line 600, in calculate_default_transform\\n    xratio = dst_width / dimensions[0]\\n             ~~~~~~~~~~^~~~~~~~~~~~~~~\\nZeroDivisionError: division by zero\\n\\nThe above exception was the direct cause of the following exception:\\n\\nTraceback (most recent call last):\\n  File \"/home/quercus.hamlin/Documents/code/f1_trainer/examples/../scripts/flood_percent_raster.py\", line 183, in <module>\\n    generate_flood_percent()\\n  File \"/home/quercus.hamlin/Documents/code/f1_trainer/.venv/lib/python3.11/site-packages/click/core.py\", line 1161, in __call__\\n    return self.main(*args, **kwargs)\\n           ^^^^^^^^^^^^^^^^^^^^^^^^^^\\n  File \"/home/quercus.hamlin/Documents/code/f1_trainer/.venv/lib/python3.11/site-packages/click/core.py\", line 1082, in main\\n    rv = self.invoke(ctx)\\n         ^^^^^^^^^^^^^^^^\\n  File \"/home/quercus.hamlin/Documents/code/f1_trainer/.venv/lib/python3.11/site-packages/click/core.py\", line 1443, in invoke\\n    return ctx.invoke(self.callback, **ctx.params)\\n           ^^^^^^^^^^^^^^^^^^^^^^^^^^^^^^^^^^^^^^^\\n  File \"/home/quercus.hamlin/Documents/code/f1_trainer/.venv/lib/python3.11/site-packages/click/core.py\", line 788, in invoke\\n    return __callback(*args, **kwargs)\\n           ^^^^^^^^^^^^^^^^^^^^^^^^^^^\\n  File \"/home/quercus.hamlin/Documents/code/f1_trainer/examples/../scripts/flood_percent_raster.py\", line 146, in generate_flood_percent\\n    flood_percent = calculate_flood_percentage(ras, target_resolution=target_resolution)\\n                    ^^^^^^^^^^^^^^^^^^^^^^^^^^^^^^^^^^^^^^^^^^^^^^^^^^^^^^^^^^^^^^^^^^^^\\n  File \"/home/quercus.hamlin/Documents/code/f1_trainer/examples/../scripts/flood_percent_raster.py\", line 85, in calculate_flood_percentage\\n    raise ValueError(\"There is a problem with the target resolution. Are you using a geographic CRS with resolutions < 1 degree? Try a different resolution.\") from e\\nValueError: There is a problem with the target resolution. Are you using a geographic CRS with resolutions < 1 degree? Try a different resolution.\\n')\n",
      "Traceback (most recent call last):\n",
      "  File \"/home/quercus.hamlin/Documents/code/f1_trainer/examples/../scripts/flood_percent_raster.py\", line 81, in calculate_flood_percentage\n",
      "    percentage_raster = raster.rio.reproject(\n",
      "                        ^^^^^^^^^^^^^^^^^^^^^\n",
      "  File \"/home/quercus.hamlin/Documents/code/f1_trainer/.venv/lib/python3.11/site-packages/rioxarray/raster_array.py\", line 470, in reproject\n",
      "    dst_affine, dst_width, dst_height = _make_dst_affine(\n",
      "                                        ^^^^^^^^^^^^^^^^^\n",
      "  File \"/home/quercus.hamlin/Documents/code/f1_trainer/.venv/lib/python3.11/site-packages/rioxarray/raster_array.py\", line 154, in _make_dst_affine\n",
      "    dst_affine, dst_width, dst_height = rasterio.warp.calculate_default_transform(\n",
      "                                        ^^^^^^^^^^^^^^^^^^^^^^^^^^^^^^^^^^^^^^^^^^\n",
      "  File \"/home/quercus.hamlin/Documents/code/f1_trainer/.venv/lib/python3.11/site-packages/rasterio/env.py\", line 413, in wrapper\n",
      "    return f(*args, **kwds)\n",
      "           ^^^^^^^^^^^^^^^^\n",
      "  File \"/home/quercus.hamlin/Documents/code/f1_trainer/.venv/lib/python3.11/site-packages/rasterio/warp.py\", line 600, in calculate_default_transform\n",
      "    xratio = dst_width / dimensions[0]\n",
      "             ~~~~~~~~~~^~~~~~~~~~~~~~~\n",
      "ZeroDivisionError: division by zero\n",
      "\n",
      "The above exception was the direct cause of the following exception:\n",
      "\n",
      "Traceback (most recent call last):\n",
      "  File \"/home/quercus.hamlin/Documents/code/f1_trainer/examples/../scripts/flood_percent_raster.py\", line 183, in <module>\n",
      "    generate_flood_percent()\n",
      "  File \"/home/quercus.hamlin/Documents/code/f1_trainer/.venv/lib/python3.11/site-packages/click/core.py\", line 1161, in __call__\n",
      "    return self.main(*args, **kwargs)\n",
      "           ^^^^^^^^^^^^^^^^^^^^^^^^^^\n",
      "  File \"/home/quercus.hamlin/Documents/code/f1_trainer/.venv/lib/python3.11/site-packages/click/core.py\", line 1082, in main\n",
      "    rv = self.invoke(ctx)\n",
      "         ^^^^^^^^^^^^^^^^\n",
      "  File \"/home/quercus.hamlin/Documents/code/f1_trainer/.venv/lib/python3.11/site-packages/click/core.py\", line 1443, in invoke\n",
      "    return ctx.invoke(self.callback, **ctx.params)\n",
      "           ^^^^^^^^^^^^^^^^^^^^^^^^^^^^^^^^^^^^^^^\n",
      "  File \"/home/quercus.hamlin/Documents/code/f1_trainer/.venv/lib/python3.11/site-packages/click/core.py\", line 788, in invoke\n",
      "    return __callback(*args, **kwargs)\n",
      "           ^^^^^^^^^^^^^^^^^^^^^^^^^^^\n",
      "  File \"/home/quercus.hamlin/Documents/code/f1_trainer/examples/../scripts/flood_percent_raster.py\", line 146, in generate_flood_percent\n",
      "    flood_percent = calculate_flood_percentage(ras, target_resolution=target_resolution)\n",
      "                    ^^^^^^^^^^^^^^^^^^^^^^^^^^^^^^^^^^^^^^^^^^^^^^^^^^^^^^^^^^^^^^^^^^^^\n",
      "  File \"/home/quercus.hamlin/Documents/code/f1_trainer/examples/../scripts/flood_percent_raster.py\", line 85, in calculate_flood_percentage\n",
      "    raise ValueError(\"There is a problem with the target resolution. Are you using a geographic CRS with resolutions < 1 degree? Try a different resolution.\") from e\n",
      "ValueError: There is a problem with the target resolution. Are you using a geographic CRS with resolutions < 1 degree? Try a different resolution.\n",
      "\n"
     ]
    }
   ],
   "source": [
    "# A raster not reprojected that has a resolution too big for its input resolution (0.00003) and causes a reproject error\n",
    "# Should fail\n",
    "final = processing_path / f\"flood_percent_{stac_asset_id}_bad_resolution.tif\"\n",
    "cmd = f\"python ../scripts/flood_percent_raster.py {stac_item} {final} --resolution 250 --overwrite\".split()\n",
    "\n",
    "output = subprocess.run(cmd, shell=False, capture_output=True)\n",
    "print(output)\n",
    "print(codecs.decode(output.stderr, \"utf8\"))"
   ]
  },
  {
   "cell_type": "code",
   "execution_count": 38,
   "id": "3a653837",
   "metadata": {},
   "outputs": [
    {
     "name": "stdout",
     "output_type": "stream",
     "text": [
      "CompletedProcess(args=['python', '../scripts/flood_percent_raster.py', '/home/quercus.hamlin/Documents/code/f1_trainer/examples/data/flood/download/NA_E087N027T3_ENSEMBLE_FLOOD_20210518T001113_VV_NA020M_E087N027T3_20210518.tif', '/home/quercus.hamlin/Documents/code/f1_trainer/examples/data/flood/processed/flood_percent_E087N027T3_Observed_Flood_Extent_no_overwrite.tif', '--grid', './data/conus_grid_temp2.tif', '--resolution', '250'], returncode=1, stdout=b'', stderr=b'Traceback (most recent call last):\\n  File \"/home/quercus.hamlin/Documents/code/f1_trainer/examples/../scripts/flood_percent_raster.py\", line 183, in <module>\\n    generate_flood_percent()\\n  File \"/home/quercus.hamlin/Documents/code/f1_trainer/.venv/lib/python3.11/site-packages/click/core.py\", line 1161, in __call__\\n    return self.main(*args, **kwargs)\\n           ^^^^^^^^^^^^^^^^^^^^^^^^^^\\n  File \"/home/quercus.hamlin/Documents/code/f1_trainer/.venv/lib/python3.11/site-packages/click/core.py\", line 1082, in main\\n    rv = self.invoke(ctx)\\n         ^^^^^^^^^^^^^^^^\\n  File \"/home/quercus.hamlin/Documents/code/f1_trainer/.venv/lib/python3.11/site-packages/click/core.py\", line 1443, in invoke\\n    return ctx.invoke(self.callback, **ctx.params)\\n           ^^^^^^^^^^^^^^^^^^^^^^^^^^^^^^^^^^^^^^^\\n  File \"/home/quercus.hamlin/Documents/code/f1_trainer/.venv/lib/python3.11/site-packages/click/core.py\", line 788, in invoke\\n    return __callback(*args, **kwargs)\\n           ^^^^^^^^^^^^^^^^^^^^^^^^^^^\\n  File \"/home/quercus.hamlin/Documents/code/f1_trainer/examples/../scripts/flood_percent_raster.py\", line 122, in generate_flood_percent\\n    raise FileExistsError(\"Overwrite flag not set and output file path exists. \" \\\\\\nFileExistsError: Overwrite flag not set and output file path exists. Please use --overwrite flag or remove output file.\\n')\n",
      "Traceback (most recent call last):\n",
      "  File \"/home/quercus.hamlin/Documents/code/f1_trainer/examples/../scripts/flood_percent_raster.py\", line 183, in <module>\n",
      "    generate_flood_percent()\n",
      "  File \"/home/quercus.hamlin/Documents/code/f1_trainer/.venv/lib/python3.11/site-packages/click/core.py\", line 1161, in __call__\n",
      "    return self.main(*args, **kwargs)\n",
      "           ^^^^^^^^^^^^^^^^^^^^^^^^^^\n",
      "  File \"/home/quercus.hamlin/Documents/code/f1_trainer/.venv/lib/python3.11/site-packages/click/core.py\", line 1082, in main\n",
      "    rv = self.invoke(ctx)\n",
      "         ^^^^^^^^^^^^^^^^\n",
      "  File \"/home/quercus.hamlin/Documents/code/f1_trainer/.venv/lib/python3.11/site-packages/click/core.py\", line 1443, in invoke\n",
      "    return ctx.invoke(self.callback, **ctx.params)\n",
      "           ^^^^^^^^^^^^^^^^^^^^^^^^^^^^^^^^^^^^^^^\n",
      "  File \"/home/quercus.hamlin/Documents/code/f1_trainer/.venv/lib/python3.11/site-packages/click/core.py\", line 788, in invoke\n",
      "    return __callback(*args, **kwargs)\n",
      "           ^^^^^^^^^^^^^^^^^^^^^^^^^^^\n",
      "  File \"/home/quercus.hamlin/Documents/code/f1_trainer/examples/../scripts/flood_percent_raster.py\", line 122, in generate_flood_percent\n",
      "    raise FileExistsError(\"Overwrite flag not set and output file path exists. \" \\\n",
      "FileExistsError: Overwrite flag not set and output file path exists. Please use --overwrite flag or remove output file.\n",
      "\n"
     ]
    }
   ],
   "source": [
    "# Trying to overwrite a raster without specifying --overwrite 1\n",
    "# Should fail\n",
    "final = processing_path / f\"flood_percent_{stac_asset_id}_no_overwrite.tif\"\n",
    "f = open(final, \"w\")\n",
    "\n",
    "cmd = f\"python ../scripts/flood_percent_raster.py {stac_item} {final} --grid {conus_grid_local} --resolution 250\".split()\n",
    "\n",
    "output = subprocess.run(cmd, shell=False, capture_output=True)\n",
    "print(output)\n",
    "print(codecs.decode(output.stderr, \"utf8\"))"
   ]
  },
  {
   "cell_type": "code",
   "execution_count": null,
   "id": "0cf42eef",
   "metadata": {},
   "outputs": [],
   "source": []
  }
 ],
 "metadata": {
  "kernelspec": {
   "display_name": ".venv",
   "language": "python",
   "name": "python3"
  },
  "language_info": {
   "codemirror_mode": {
    "name": "ipython",
    "version": 3
   },
   "file_extension": ".py",
   "mimetype": "text/x-python",
   "name": "python",
   "nbconvert_exporter": "python",
   "pygments_lexer": "ipython3",
   "version": "3.11.12"
  }
 },
 "nbformat": 4,
 "nbformat_minor": 5
}

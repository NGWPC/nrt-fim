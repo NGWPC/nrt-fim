{
 "cells": [
  {
   "cell_type": "markdown",
   "id": "0",
   "metadata": {},
   "source": [
    "# Reading from STAC\n",
    "Demonstrates a STAC reader class to read from FIM-C s3 catalog to download asset files.\n",
    "\n",
    "Requirements:\n",
    "- `.env` file with AWS credentials `AWS_ACCESS_KEY_ID`, `AWS_SECRET_ACCESS_KEY`, `AWS_SESSION_TOKEN` for NGWPC `Data` AWS account\n",
    "- Collection, item, and asset file must be known"
   ]
  },
  {
   "cell_type": "code",
   "execution_count": null,
   "id": "1",
   "metadata": {},
   "outputs": [],
   "source": [
    "import os\n",
    "\n",
    "import matplotlib.pyplot as plt\n",
    "import rasterio\n",
    "from dotenv import load_dotenv\n",
    "\n",
    "from trainer.utils.utils_stac import STACReader\n",
    "\n",
    "load_dotenv()"
   ]
  },
  {
   "cell_type": "code",
   "execution_count": null,
   "id": "2",
   "metadata": {},
   "outputs": [],
   "source": [
    "reader = STACReader(bucket=\"fimc-data\", catalog=\"s3://fimc-data/benchmark/stac-bench-cat/catalog.json\")"
   ]
  },
  {
   "cell_type": "markdown",
   "id": "3",
   "metadata": {},
   "source": [
    "reader includes an attribute `root_catalog` to directly access catalog"
   ]
  },
  {
   "cell_type": "code",
   "execution_count": null,
   "id": "4",
   "metadata": {},
   "outputs": [],
   "source": [
    "collections = list(reader.root_catalog.get_collections())\n",
    "\n",
    "print(f\"Number of collections: {len(collections)}\")\n",
    "print(\"Collections IDs:\")\n",
    "for collection in collections:\n",
    "    print(f\"- {collection.id}\")"
   ]
  },
  {
   "cell_type": "code",
   "execution_count": null,
   "id": "5",
   "metadata": {},
   "outputs": [],
   "source": [
    "collection = reader.root_catalog.get_child(\"gfm-collection\")\n",
    "collection"
   ]
  },
  {
   "cell_type": "code",
   "execution_count": null,
   "id": "6",
   "metadata": {},
   "outputs": [],
   "source": [
    "items = list(collection.get_items())\n",
    "items[0]"
   ]
  },
  {
   "cell_type": "markdown",
   "id": "7",
   "metadata": {},
   "source": [
    "Includes a `read_stac` method for reading a specific `asset_id` (file) from a `collection` and an `item`. An output directory must be specified. If no `output_name` given, the file will default to the asset's file name.\n",
    "\n",
    "Items can be identified via FIM-C Benchmark STAC API\n",
    "\n",
    "Note: STACs can have an item searched from the root catalog, but performance is very poor on a large catalog. "
   ]
  },
  {
   "cell_type": "code",
   "execution_count": null,
   "id": "8",
   "metadata": {},
   "outputs": [],
   "source": [
    "if not os.path.isdir(\"data\"):\n",
    "    os.mkdir(\"data\")\n",
    "\n",
    "reader.read_stac(\n",
    "    collection=\"gfm-collection\",\n",
    "    item_id=\"DFO-4230_tile-S1A_IW_GRDH_1SDV_20150316T235500_20150316T235525_005064_0065C2_6FB7\",\n",
    "    asset_id=\"E090N030T3_Observed_Flood_Extent\",\n",
    "    output_dir=\"./data\",\n",
    ")"
   ]
  },
  {
   "cell_type": "code",
   "execution_count": null,
   "id": "9",
   "metadata": {},
   "outputs": [],
   "source": [
    "with rasterio.open(\n",
    "    \"./data/NA_E090N030T3_ENSEMBLE_FLOOD_20150316T235500_VV_NA020M_E090N030T3_20150316.tif\"\n",
    ") as src:\n",
    "    plt.imshow(src.read(1))"
   ]
  },
  {
   "cell_type": "code",
   "execution_count": null,
   "id": "10",
   "metadata": {},
   "outputs": [],
   "source": [
    "reader.read_stac(\n",
    "    collection=\"gfm-collection\",\n",
    "    item_id=\"DFO-4230_tile-S1A_IW_GRDH_1SDV_20150316T235500_20150316T235525_005064_0065C2_6FB7\",\n",
    "    asset_id=\"NWM_v3_flowfile\",\n",
    "    output_dir=\"./data\",\n",
    "    output_name=\"nwm_flow_test.csv\",\n",
    ")"
   ]
  },
  {
   "cell_type": "code",
   "execution_count": null,
   "id": "11",
   "metadata": {},
   "outputs": [],
   "source": []
  }
 ],
 "metadata": {
  "kernelspec": {
   "display_name": "Python 3 (ipykernel)",
   "language": "python",
   "name": "python3"
  },
  "language_info": {
   "codemirror_mode": {
    "name": "ipython",
    "version": 3
   },
   "file_extension": ".py",
   "mimetype": "text/x-python",
   "name": "python",
   "nbconvert_exporter": "python",
   "pygments_lexer": "ipython3",
   "version": "3.9.7"
  }
 },
 "nbformat": 4,
 "nbformat_minor": 5
}

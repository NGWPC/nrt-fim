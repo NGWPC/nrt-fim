{
 "cells": [
  {
   "cell_type": "markdown",
   "id": "2e2b93f6",
   "metadata": {},
   "source": [
    "# Creating a Model Grid from Vector Extents\n",
    "\n",
    "Use GDAL to rasterize a vector extent of CONUS."
   ]
  },
  {
   "cell_type": "code",
   "execution_count": null,
   "id": "3c1116b1",
   "metadata": {},
   "outputs": [
    {
     "data": {
      "text/plain": [
       "True"
      ]
     },
     "execution_count": 1,
     "metadata": {},
     "output_type": "execute_result"
    }
   ],
   "source": [
    "import os\n",
    "\n",
    "import geopandas as gpd\n",
    "import pandas as pd\n",
    "import shapely\n",
    "from dotenv import load_dotenv\n",
    "from osgeo.gdal import GDT_Byte\n",
    "\n",
    "from trainer import rasterize\n",
    "\n",
    "load_dotenv()"
   ]
  },
  {
   "cell_type": "code",
   "execution_count": 2,
   "id": "26c43a5e",
   "metadata": {},
   "outputs": [],
   "source": [
    "\n",
    "# specified for example; issue with GDAL bindings in uv\n",
    "os.environ['PROJ_LIB'] = '../.venv/lib/python3.12/site-packages/osgeo/data/proj'\n"
   ]
  },
  {
   "cell_type": "code",
   "execution_count": null,
   "id": "936898f8",
   "metadata": {},
   "outputs": [],
   "source": [
    "# paths and constants\n",
    "input_vector = 's3://fim-services-data/f1/data/tl_2024_us_state.gpkg'\n",
    "output_vector = 'data/conus_geom.gpkg'\n",
    "output_raster = 'data/conus.tif'\n",
    "no_data_value = 8 # highest number in gdal.GDT_Byte, allows us to do 0 and 1 for land and extent\n",
    "crs = 'EPSG:6350'\n",
    "buffer_size = 1000 # in unit of projection (meters)"
   ]
  },
  {
   "cell_type": "markdown",
   "id": "2d3e5e0e",
   "metadata": {},
   "source": [
    "Use geopandas to process an input of all US States. Remove defined non-CONUS states, reproject to equal area projection, dissolve polygons into single polygon, export with a single value, and create an inverse of the polygon for the bounding box to have data in the output raster.\n"
   ]
  },
  {
   "cell_type": "code",
   "execution_count": 4,
   "id": "0c9f01f7",
   "metadata": {},
   "outputs": [],
   "source": [
    "gdf = gpd.read_file(input_vector, immutable='YES')\n",
    "\n",
    "# remove non-CONUS states/territories\n",
    "gdf = gdf.loc[~gdf['GEOID'].isin(['15','78','69', '66', '62', '02', '60', '72'])]\n",
    "\n",
    "# reproject NAD83(2011) Albers Equal Area\n",
    "gdf = gdf.to_crs(crs)\n",
    "\n",
    "# dissolve to one polygon and set value to same value\n",
    "gdf = gdf.dissolve()\n",
    "gdf = gdf[['geometry']]\n",
    "gdf['value'] = 1\n",
    "\n",
    "# buffer\n",
    "gdf['geometry'] = gdf['geometry'].buffer(buffer_size)\n",
    "\n",
    "# add an extent for the inverse of the polygon\n",
    "bounds = gdf['geometry'].bounds.iloc[0]\n",
    "conus_geom = gdf['geometry'].iloc[0]\n",
    "box = shapely.geometry.box(bounds['minx'],bounds['miny'], bounds['maxx'], bounds['maxy'])\n",
    "erased_box = (box.symmetric_difference(conus_geom)).difference(conus_geom)\n",
    "\n",
    "# concat to have inside and outside\n",
    "gdf = pd.concat([gdf, (gpd.GeoDataFrame(geometry=[erased_box], data={'value':[0]}, crs=crs))])\n",
    "\n"
   ]
  },
  {
   "cell_type": "code",
   "execution_count": 5,
   "id": "225bef2f",
   "metadata": {},
   "outputs": [
    {
     "data": {
      "text/plain": [
       "<Axes: >"
      ]
     },
     "execution_count": 5,
     "metadata": {},
     "output_type": "execute_result"
    },
    {
     "data": {
      "image/png": "[encoded data removed]",
      "text/plain": [
       "<Figure size 640x480 with 1 Axes>"
      ]
     },
     "metadata": {},
     "output_type": "display_data"
    }
   ],
   "source": [
    "gdf.plot()"
   ]
  },
  {
   "cell_type": "code",
   "execution_count": 6,
   "id": "e1c39407",
   "metadata": {},
   "outputs": [],
   "source": [
    "gdf.to_file(output_vector, layer='conus')"
   ]
  },
  {
   "cell_type": "markdown",
   "id": "28fec4f9",
   "metadata": {},
   "source": [
    "Use GDAL to create raster from vector"
   ]
  },
  {
   "cell_type": "code",
   "execution_count": 7,
   "id": "b356a420",
   "metadata": {},
   "outputs": [
    {
     "name": "stderr",
     "output_type": "stream",
     "text": [
      "/home/quercus/code/hy/f1_trainer/.venv/lib/python3.12/site-packages/osgeo/ogr.py:604: FutureWarning: Neither ogr.UseExceptions() nor ogr.DontUseExceptions() has been explicitly called. In GDAL 4.0, exceptions will be enabled by default.\n",
      "  warnings.warn(\n"
     ]
    }
   ],
   "source": [
    "\n",
    "rasterize(output_vector, output_raster, pixel_size=250, attribute='value', no_data_value=no_data_value, output_type=GDT_Byte)"
   ]
  },
  {
   "cell_type": "code",
   "execution_count": null,
   "id": "2acecb65",
   "metadata": {},
   "outputs": [],
   "source": []
  }
 ],
 "metadata": {
  "kernelspec": {
   "display_name": ".venv",
   "language": "python",
   "name": "python3"
  },
  "language_info": {
   "codemirror_mode": {
    "name": "ipython",
    "version": 3
   },
   "file_extension": ".py",
   "mimetype": "text/x-python",
   "name": "python",
   "nbconvert_exporter": "python",
   "pygments_lexer": "ipython3",
   "version": "3.12.8"
  }
 },
 "nbformat": 4,
 "nbformat_minor": 5
}

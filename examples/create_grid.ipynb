{
 "cells": [
  {
   "cell_type": "markdown",
   "id": "0",
   "metadata": {},
   "source": [
    "# Creating a Model Grid from Vector Extents\n",
    "\n",
    "Use GDAL to rasterize a vector extent of CONUS."
   ]
  },
  {
   "cell_type": "code",
   "execution_count": null,
   "id": "1",
   "metadata": {},
   "outputs": [],
   "source": [
    "import os\n",
    "\n",
    "import geopandas as gpd\n",
    "import pandas as pd\n",
    "import shapely\n",
    "from dotenv import load_dotenv\n",
    "from numpy import uint8\n",
    "\n",
    "from trainer.utils.utils import rasterize\n",
    "\n",
    "load_dotenv()"
   ]
  },
  {
   "cell_type": "code",
   "execution_count": null,
   "id": "2",
   "metadata": {},
   "outputs": [],
   "source": [
    "# paths and constants\n",
    "if not os.path.isdir(\"data\"):\n",
    "    os.mkdir(\"data\")\n",
    "\n",
    "input_vector = \"s3://fim-services-data/f1/data/tl_2024_us_state.gpkg\"\n",
    "output_vector = \"data/conus_geom.gpkg\"\n",
    "output_raster = \"data/conus.tif\"\n",
    "no_data_value = 255\n",
    "crs = \"EPSG:6350\"\n",
    "buffer_size = 1000  # in unit of projection (meters)"
   ]
  },
  {
   "cell_type": "markdown",
   "id": "3",
   "metadata": {},
   "source": [
    "Use geopandas to process an input of all US States. Remove defined non-CONUS states, reproject to equal area projection, dissolve polygons into single polygon, export with a single value, and create an inverse of the polygon for the bounding box to have data in the output raster.\n"
   ]
  },
  {
   "cell_type": "code",
   "execution_count": null,
   "id": "4",
   "metadata": {},
   "outputs": [],
   "source": [
    "gdf = gpd.read_file(input_vector, immutable=\"YES\")\n",
    "\n",
    "# remove non-CONUS states/territories\n",
    "gdf = gdf.loc[~gdf[\"GEOID\"].isin([\"15\", \"78\", \"69\", \"66\", \"62\", \"02\", \"60\", \"72\"])]\n",
    "\n",
    "# reproject NAD83(2011) Albers Equal Area\n",
    "gdf = gdf.to_crs(crs)\n",
    "\n",
    "# dissolve to one polygon and set value to same value\n",
    "gdf = gdf.dissolve()\n",
    "gdf = gdf[[\"geometry\"]]\n",
    "gdf[\"value\"] = 1\n",
    "\n",
    "# buffer\n",
    "gdf[\"geometry\"] = gdf[\"geometry\"].buffer(buffer_size)\n",
    "\n",
    "# add an extent for the inverse of the polygon\n",
    "bounds = gdf[\"geometry\"].bounds.iloc[0]\n",
    "conus_geom = gdf[\"geometry\"].iloc[0]\n",
    "box = shapely.geometry.box(bounds[\"minx\"], bounds[\"miny\"], bounds[\"maxx\"], bounds[\"maxy\"])\n",
    "erased_box = (box.symmetric_difference(conus_geom)).difference(conus_geom)\n",
    "\n",
    "# concat to have inside and outside\n",
    "gdf = pd.concat([gdf, (gpd.GeoDataFrame(geometry=[erased_box], data={\"value\": [2]}, crs=crs))])"
   ]
  },
  {
   "cell_type": "code",
   "execution_count": null,
   "id": "5",
   "metadata": {},
   "outputs": [],
   "source": [
    "gdf.plot()"
   ]
  },
  {
   "cell_type": "code",
   "execution_count": null,
   "id": "6",
   "metadata": {},
   "outputs": [],
   "source": [
    "gdf.to_file(output_vector, layer=\"conus\")"
   ]
  },
  {
   "cell_type": "markdown",
   "id": "7",
   "metadata": {},
   "source": [
    "Use xarray and geocube to rasterize the vector\n",
    "\n",
    "NOTE: `RuntimeWarning: invalid value encountered in cast\n",
    "  data = encode_cf_variable(out_data.variable).values.astype(`\n",
    "  warning happening despite successful datatype conversion as shown in tests"
   ]
  },
  {
   "cell_type": "code",
   "execution_count": null,
   "id": "8",
   "metadata": {},
   "outputs": [],
   "source": [
    "rasterize(\n",
    "    output_vector,\n",
    "    output_raster,\n",
    "    resolution=250,\n",
    "    attribute=\"value\",\n",
    "    crs=crs,\n",
    "    nodata_value=no_data_value,\n",
    "    dtype=uint8,\n",
    ")"
   ]
  },
  {
   "cell_type": "code",
   "execution_count": null,
   "id": "9",
   "metadata": {},
   "outputs": [],
   "source": []
  }
 ],
 "metadata": {
  "kernelspec": {
   "display_name": "Python 3 (ipykernel)",
   "language": "python",
   "name": "python3"
  },
  "language_info": {
   "codemirror_mode": {
    "name": "ipython",
    "version": 3
   },
   "file_extension": ".py",
   "mimetype": "text/x-python",
   "name": "python",
   "nbconvert_exporter": "python",
   "pygments_lexer": "ipython3",
   "version": "3.9.7"
  }
 },
 "nbformat": 4,
 "nbformat_minor": 5
}

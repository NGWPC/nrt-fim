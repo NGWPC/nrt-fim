{
 "cells": [
  {
   "cell_type": "code",
   "execution_count": 8,
   "metadata": {},
   "outputs": [],
   "source": [
    "# !pip install PIL"
   ]
  },
  {
   "cell_type": "code",
   "execution_count": 19,
   "metadata": {},
   "outputs": [
    {
     "name": "stdout",
     "output_type": "stream",
     "text": [
      "GIF created successfully: /Users/taddbindas/projects/NGWPC/f1_trainer/runs/0.1.0-f1-mvp/2025-03-11_14-57-24/output.gif\n"
     ]
    }
   ],
   "source": [
    "import re\n",
    "from pathlib import Path\n",
    "\n",
    "from PIL import Image\n",
    "\n",
    "\n",
    "def get_epoch_number(filepath):\n",
    "    match = re.search(r\"pred_epoch_(\\d+)_batch_0\\.png\", filepath.name)\n",
    "    if match:\n",
    "        return int(match.group(1))\n",
    "    return 0  # Default case if the pattern doesn't match\n",
    "\n",
    "\n",
    "png_dir = Path(\"/Users/taddbindas/projects/NGWPC/f1_trainer/runs/0.1.0-f1-mvp/2025-03-11_14-57-24/plots\")\n",
    "png_files = sorted(png_dir.glob(\"*.png\"))\n",
    "\n",
    "png_files = sorted(png_files, key=get_epoch_number)\n",
    "\n",
    "# Open all PNG files\n",
    "images = [Image.open(png) for png in png_files]\n",
    "\n",
    "# Save as GIF\n",
    "images[0].save(\n",
    "    png_dir / \"../output.gif\",\n",
    "    save_all=True,\n",
    "    append_images=images[1:],\n",
    "    optimize=False,\n",
    "    duration=100,\n",
    ")\n",
    "\n",
    "print(\n",
    "    \"GIF created successfully: /Users/taddbindas/projects/NGWPC/f1_trainer/runs/0.1.0-f1-mvp/2025-03-11_14-57-24/output.gif\"\n",
    ")"
   ]
  },
  {
   "cell_type": "code",
   "execution_count": null,
   "metadata": {},
   "outputs": [],
   "source": []
  }
 ],
 "metadata": {
  "kernelspec": {
   "display_name": ".venv",
   "language": "python",
   "name": "python3"
  },
  "language_info": {
   "codemirror_mode": {
    "name": "ipython",
    "version": 3
   },
   "file_extension": ".py",
   "mimetype": "text/x-python",
   "name": "python",
   "nbconvert_exporter": "python",
   "pygments_lexer": "ipython3",
   "version": "3.12.3"
  }
 },
 "nbformat": 4,
 "nbformat_minor": 2
}

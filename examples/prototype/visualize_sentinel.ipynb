{
 "cells": [
  {
   "cell_type": "code",
   "execution_count": null,
   "metadata": {},
   "outputs": [],
   "source": [
    "from pathlib import Path\n",
    "\n",
    "import matplotlib.pyplot as plt\n",
    "import rioxarray\n",
    "from matplotlib.colors import LinearSegmentedColormap"
   ]
  },
  {
   "cell_type": "code",
   "execution_count": null,
   "metadata": {},
   "outputs": [],
   "source": [
    "raster = rioxarray.open_rasterio(Path.cwd() / \"data/sentinel/kars_extent.tif\")\n",
    "\n",
    "raster_filled = raster.fillna(0)\n",
    "\n",
    "output_path = Path.cwd() / \"data/sentinel/kars_extent_nan_filled.tif\"\n",
    "\n",
    "print(f\"Saved filled raster to: {output_path}\")\n",
    "\n",
    "raster_filled.rio.to_raster(\n",
    "    Path.cwd() / \"data/sentinel/kars_extent_filled_optimized.tif\",\n",
    "    driver=\"GTiff\",  # File format (GeoTIFF)\n",
    "    dtype=\"float32\",  # Data type\n",
    "    compress=\"LZW\",  # Compression algorithm\n",
    "    tiled=True,  # Use internal tiling (better performance)\n",
    "    compute=True,  # Execute immediately (relevant with dask)\n",
    ")"
   ]
  },
  {
   "cell_type": "code",
   "execution_count": null,
   "metadata": {},
   "outputs": [],
   "source": [
    "raster = rioxarray.open_rasterio(Path.cwd() / \"data/sentinel/cloud_cutout_extent.tif\")\n",
    "\n",
    "raster_filled = raster.fillna(0)\n",
    "\n",
    "output_path = Path.cwd() / \"data/sentinel/cloud_cutout_extent_filled_optimized.tif\"\n",
    "\n",
    "print(f\"Saved filled raster to: {output_path}\")\n",
    "\n",
    "raster_filled.rio.to_raster(\n",
    "    Path.cwd() / \"data/sentinel/cloud_cutout_extent_filled_optimized.tif\",\n",
    "    driver=\"GTiff\",  # File format (GeoTIFF)\n",
    "    dtype=\"float32\",  # Data type\n",
    "    compress=\"LZW\",  # Compression algorithm\n",
    "    tiled=True,  # Use internal tiling (better performance)\n",
    "    compute=True,  # Execute immediately (relevant with dask)\n",
    ")"
   ]
  },
  {
   "cell_type": "code",
   "execution_count": null,
   "metadata": {},
   "outputs": [],
   "source": [
    "# Create a figure with two subplots side by side\n",
    "fig, ax2 = plt.subplots(1, 1, figsize=(14, 6))\n",
    "\n",
    "# Custom colormap for flood mapping (blue for water)\n",
    "colors = [(1, 1, 1, 0), (0, 0, 0.5, 0.5), (0, 0, 1, 1)]  # Transparent to dark blue\n",
    "water_cmap = LinearSegmentedColormap.from_list(\"water_cmap\", colors)\n",
    "\n",
    "# Plot the filled raster\n",
    "im2 = raster_filled.plot(ax=ax2, cmap=water_cmap, vmin=0, vmax=1)\n",
    "ax2.set_title(\"Raster with NoData filled as 0\")\n",
    "ax2.set_xlabel(\"Longitude\")\n",
    "\n",
    "cbar2 = plt.colorbar(im2, ax=ax2, pad=0.01)\n",
    "cbar2.set_label(\"Values\")\n",
    "\n",
    "# Adjust layout\n",
    "plt.tight_layout()\n",
    "\n",
    "# Add a main title\n",
    "plt.suptitle(\"Comparison of Original vs. NoData-Filled Raster\", fontsize=16, y=1.05)\n",
    "\n",
    "\n",
    "# Show the plot\n",
    "plt.show()"
   ]
  },
  {
   "cell_type": "code",
   "execution_count": null,
   "metadata": {},
   "outputs": [],
   "source": []
  }
 ],
 "metadata": {
  "kernelspec": {
   "display_name": "Python 3 (ipykernel)",
   "language": "python",
   "name": "python3"
  },
  "language_info": {
   "codemirror_mode": {
    "name": "ipython",
    "version": 3
   },
   "file_extension": ".py",
   "mimetype": "text/x-python",
   "name": "python",
   "nbconvert_exporter": "python",
   "pygments_lexer": "ipython3",
   "version": "3.12.3"
  }
 },
 "nbformat": 4,
 "nbformat_minor": 2
}
